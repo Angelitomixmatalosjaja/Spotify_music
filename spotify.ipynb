{
 "cells": [
  {
   "cell_type": "code",
   "execution_count": 1,
   "metadata": {},
   "outputs": [
    {
     "ename": "ModuleNotFoundError",
     "evalue": "No module named 'imblearn'",
     "output_type": "error",
     "traceback": [
      "\u001b[0;31m---------------------------------------------------------------------------\u001b[0m",
      "\u001b[0;31mModuleNotFoundError\u001b[0m                       Traceback (most recent call last)",
      "Cell \u001b[0;32mIn[1], line 8\u001b[0m\n\u001b[1;32m      6\u001b[0m \u001b[38;5;28;01mfrom\u001b[39;00m\u001b[38;5;250m \u001b[39m\u001b[38;5;21;01msklearn\u001b[39;00m\u001b[38;5;21;01m.\u001b[39;00m\u001b[38;5;21;01mmetrics\u001b[39;00m\u001b[38;5;250m \u001b[39m\u001b[38;5;28;01mimport\u001b[39;00m classification_report\n\u001b[1;32m      7\u001b[0m \u001b[38;5;28;01mfrom\u001b[39;00m\u001b[38;5;250m \u001b[39m\u001b[38;5;21;01msklearn\u001b[39;00m\u001b[38;5;21;01m.\u001b[39;00m\u001b[38;5;21;01mpreprocessing\u001b[39;00m\u001b[38;5;250m \u001b[39m\u001b[38;5;28;01mimport\u001b[39;00m LabelEncoder\n\u001b[0;32m----> 8\u001b[0m \u001b[38;5;28;01mfrom\u001b[39;00m\u001b[38;5;250m \u001b[39m\u001b[38;5;21;01mimblearn\u001b[39;00m\u001b[38;5;21;01m.\u001b[39;00m\u001b[38;5;21;01mover_sampling\u001b[39;00m\u001b[38;5;250m \u001b[39m\u001b[38;5;28;01mimport\u001b[39;00m SMOTE\n",
      "\u001b[0;31mModuleNotFoundError\u001b[0m: No module named 'imblearn'"
     ]
    }
   ],
   "source": [
    "import pandas as pd\n",
    "import numpy as np\n",
    "import matplotlib.pyplot as plt\n",
    "from sklearn.model_selection import train_test_split\n",
    "from sklearn.ensemble import RandomForestClassifier\n",
    "from sklearn.metrics import classification_report\n",
    "from sklearn.preprocessing import LabelEncoder\n",
    "from imblearn.over_sampling import SMOTE"
   ]
  },
  {
   "cell_type": "code",
   "execution_count": 54,
   "metadata": {},
   "outputs": [],
   "source": [
    "spotify = pd.read_csv('spotify_history.csv')\n",
    "spotify_data = pd.read_csv('spotify_data_dictionary Description.csv')"
   ]
  },
  {
   "cell_type": "code",
   "execution_count": 55,
   "metadata": {},
   "outputs": [
    {
     "data": {
      "application/vnd.microsoft.datawrangler.viewer.v0+json": {
       "columns": [
        {
         "name": "index",
         "rawType": "int64",
         "type": "integer"
        },
        {
         "name": "spotify_track_uri",
         "rawType": "object",
         "type": "string"
        },
        {
         "name": "ts",
         "rawType": "object",
         "type": "string"
        },
        {
         "name": "platform",
         "rawType": "object",
         "type": "string"
        },
        {
         "name": "ms_played",
         "rawType": "int64",
         "type": "integer"
        },
        {
         "name": "track_name",
         "rawType": "object",
         "type": "string"
        },
        {
         "name": "artist_name",
         "rawType": "object",
         "type": "string"
        },
        {
         "name": "album_name",
         "rawType": "object",
         "type": "string"
        },
        {
         "name": "reason_start",
         "rawType": "object",
         "type": "unknown"
        },
        {
         "name": "reason_end",
         "rawType": "object",
         "type": "unknown"
        },
        {
         "name": "shuffle",
         "rawType": "bool",
         "type": "boolean"
        },
        {
         "name": "skipped",
         "rawType": "bool",
         "type": "boolean"
        }
       ],
       "ref": "b1fd8052-5bf4-4971-9d37-d7798f9f1b60",
       "rows": [
        [
         "0",
         "2J3n32GeLmMjwuAzyhcSNe",
         "2013-07-08 02:44:34",
         "web player",
         "3185",
         "Say It, Just Say It",
         "The Mowgli's",
         "Waiting For The Dawn",
         "autoplay",
         "clickrow",
         "False",
         "False"
        ],
        [
         "1",
         "1oHxIPqJyvAYHy0PVrDU98",
         "2013-07-08 02:45:37",
         "web player",
         "61865",
         "Drinking from the Bottle (feat. Tinie Tempah)",
         "Calvin Harris",
         "18 Months",
         "clickrow",
         "clickrow",
         "False",
         "False"
        ],
        [
         "2",
         "487OPlneJNni3NWC8SYqhW",
         "2013-07-08 02:50:24",
         "web player",
         "285386",
         "Born To Die",
         "Lana Del Rey",
         "Born To Die - The Paradise Edition",
         "clickrow",
         "unknown",
         "False",
         "False"
        ],
        [
         "3",
         "5IyblF777jLZj1vGHG2UD3",
         "2013-07-08 02:52:40",
         "web player",
         "134022",
         "Off To The Races",
         "Lana Del Rey",
         "Born To Die - The Paradise Edition",
         "trackdone",
         "clickrow",
         "False",
         "False"
        ],
        [
         "4",
         "0GgAAB0ZMllFhbNc3mAodO",
         "2013-07-08 03:17:52",
         "web player",
         "0",
         "Half Mast",
         "Empire Of The Sun",
         "Walking On A Dream",
         "clickrow",
         "nextbtn",
         "False",
         "False"
        ],
        [
         "5",
         "50VNvhzyaSplJCKWchN7a8",
         "2013-07-08 03:17:52",
         "web player",
         "63485",
         "Impossible",
         "James Arthur",
         "Impossible",
         "clickrow",
         "clickrow",
         "False",
         "False"
        ],
        [
         "6",
         "1I4EczxGBcPR3J3KeyqFJP",
         "2013-07-08 03:17:56",
         "web player",
         "0",
         "We Own The Sky",
         "M83",
         "Saturdays = Youth",
         "nextbtn",
         "nextbtn",
         "False",
         "False"
        ],
        [
         "7",
         "5arVt2Wg0zbiWwAOZef2Nl",
         "2013-07-08 03:17:56",
         "web player",
         "1268",
         "Higher Ground - Remastered 2003",
         "Red Hot Chili Peppers",
         "Mother's Milk",
         "nextbtn",
         "nextbtn",
         "False",
         "False"
        ],
        [
         "8",
         "1ixtaZc0Adil3yD1ItPqSl",
         "2013-07-08 03:17:58",
         "web player",
         "0",
         "Happy Up Here",
         "Röyksopp",
         "Happy Up Here",
         "nextbtn",
         "nextbtn",
         "False",
         "False"
        ],
        [
         "9",
         "2v5mpowLQNFN7NC46l0bJS",
         "2013-07-08 03:19:11",
         "web player",
         "0",
         "Phantom",
         "Justice",
         "Phantom",
         "nextbtn",
         "clickrow",
         "False",
         "False"
        ],
        [
         "10",
         "07hII2Rc29q4F2nTE3P1od",
         "2013-07-08 03:20:20",
         "web player",
         "67587",
         "Sun - Gildas Kitsunй Club Night Short Remix",
         "Two Door Cinema Club",
         "The Kitsuné Special Edition #3 (Kitsuné Maison 14: The Absinthe Edition + Gildas Kitsuné Club Night Mix #3)",
         "clickrow",
         "clickrow",
         "False",
         "False"
        ],
        [
         "11",
         "4kO7mrAPfqIrsKwUOK5BFx",
         "2013-07-08 03:20:36",
         "web player",
         "12846",
         "Midnight City",
         "M83",
         "Hurry Up, We're Dreaming",
         "clickrow",
         "clickrow",
         "False",
         "False"
        ],
        [
         "12",
         "4oTIuUmpE2xdXrpon9lgfJ",
         "2013-07-08 03:21:13",
         "web player",
         "36132",
         "Heaven",
         "Emeli Sandé",
         "Our Version Of Events",
         "clickrow",
         "clickrow",
         "False",
         "False"
        ],
        [
         "13",
         "49h0RYK3yzWkfbVyNJjJ01",
         "2013-07-08 03:22:51",
         "web player",
         "95817",
         "Do I Wanna Know?",
         "Arctic Monkeys",
         "Do I Wanna Know?",
         "clickrow",
         "clickrow",
         "False",
         "False"
        ],
        [
         "14",
         "4iG2gAwKXsOcijVaVXzRPW",
         "2013-07-08 03:22:54",
         "web player",
         "1763",
         "Time to Pretend",
         "MGMT",
         "Oracular Spectacular",
         "clickrow",
         "nextbtn",
         "False",
         "False"
        ],
        [
         "15",
         "19K3lUMJmOdeuOBTrbLm19",
         "2013-07-08 03:33:38",
         "web player",
         "45712",
         "Weekend Wars",
         "MGMT",
         "Oracular Spectacular",
         "nextbtn",
         "nextbtn",
         "False",
         "False"
        ],
        [
         "16",
         "5nv854ey1k43KaZ0kHmE4Z",
         "2013-07-08 03:37:30",
         "web player",
         "228021",
         "The Youth",
         "MGMT",
         "Oracular Spectacular",
         "nextbtn",
         "unknown",
         "False",
         "False"
        ],
        [
         "17",
         "3FtYbEfBqAlGO46NUDQSAt",
         "2013-07-08 03:41:21",
         "web player",
         "229589",
         "Electric Feel",
         "MGMT",
         "Oracular Spectacular",
         "trackdone",
         "trackdone",
         "False",
         "False"
        ],
        [
         "18",
         "1jJci4qxiYcOHhQR247rEU",
         "2013-07-08 03:41:30",
         "web player",
         "7332",
         "Kids",
         "MGMT",
         "Oracular Spectacular",
         "trackdone",
         "clickrow",
         "False",
         "False"
        ],
        [
         "19",
         "4Sfa7hdVkqlM8UW5LsSY3F",
         "2013-07-08 03:45:10",
         "web player",
         "217935",
         "Take a Walk",
         "Passion Pit",
         "Gossamer",
         "clickrow",
         "clickrow",
         "False",
         "False"
        ],
        [
         "20",
         "1VMdwVq0yaTc4DeqSCi7DO",
         "2013-07-08 03:46:29",
         "web player",
         "76303",
         "White",
         "Frank Ocean",
         "channel ORANGE",
         "clickrow",
         "unknown",
         "False",
         "False"
        ],
        [
         "21",
         "0msrDPXxZpts4FRnoX0bFr",
         "2013-07-08 03:51:36",
         "web player",
         "10579",
         "Monks",
         "Frank Ocean",
         "channel ORANGE",
         "trackdone",
         "clickrow",
         "False",
         "False"
        ],
        [
         "22",
         "2GAljG6WxV0XU7N88TWhb1",
         "2013-07-08 03:55:57",
         "web player",
         "0",
         "Paper Doll",
         "John Mayer",
         "Paper Doll",
         "clickrow",
         "unknown",
         "False",
         "False"
        ],
        [
         "23",
         "1oALUPFv6xZzEidRC42BZP",
         "2013-07-08 03:57:20",
         "web player",
         "81893",
         "7th Street",
         "John Mayer",
         "7th Street",
         "trackdone",
         "trackdone",
         "False",
         "False"
        ],
        [
         "24",
         "3qvGzm7QyMW3TvWpl3sZaq",
         "2013-07-08 03:59:15",
         "web player",
         "0",
         "Baby, You've Got the Nonsense",
         "John Mayer",
         "7th Street",
         "trackdone",
         "trackdone",
         "False",
         "False"
        ],
        [
         "25",
         "3kQ7gRMR7bPf9M3enRGyyY",
         "2013-07-08 04:03:17",
         "web player",
         "238837",
         "Gravity - Radio Edit",
         "John Mayer",
         "Gravity",
         "trackdone",
         "trackdone",
         "False",
         "False"
        ],
        [
         "26",
         "6wZI4mdT8JwXgkGURnBQiq",
         "2013-07-08 04:07:10",
         "web player",
         "230216",
         "Say",
         "John Mayer",
         "Say",
         "trackdone",
         "trackdone",
         "False",
         "False"
        ],
        [
         "27",
         "0BIajZZW6jUlVqoNwmzZ2J",
         "2013-07-08 04:10:34",
         "web player",
         "0",
         "Waiting On the World to Change",
         "John Mayer",
         "Waiting On The World To Change",
         "trackdone",
         "trackdone",
         "False",
         "False"
        ],
        [
         "28",
         "1ZF0NnzQhfR9hEdsUsuZfz",
         "2013-07-08 04:13:23",
         "web player",
         "165694",
         "I'm Gonna Find Another You - Acoustic",
         "John Mayer",
         "Waiting On The World To Change",
         "trackdone",
         "trackdone",
         "False",
         "False"
        ],
        [
         "29",
         "6J3PYJ5mpscGmSFF6ANYDQ",
         "2013-07-08 04:17:23",
         "web player",
         "237896",
         "Daughters",
         "John Mayer",
         "Daughters",
         "trackdone",
         "trackdone",
         "False",
         "False"
        ],
        [
         "30",
         "4rW2rUs32yZreYjvKgS1KK",
         "2013-07-08 04:18:44",
         "web player",
         "78943",
         "Daughters - Electric Guitar Mix",
         "John Mayer",
         "Daughters",
         "trackdone",
         "clickrow",
         "False",
         "False"
        ],
        [
         "31",
         "4LloVtxNZpeh7q7xdi1DQc",
         "2013-07-08 04:18:48",
         "web player",
         "2301",
         "Free Fallin' - Live at the Nokia Theatre, Los Angeles, CA - December 2007",
         "John Mayer",
         "Where the Light Is: John Mayer Live In Los Angeles",
         "clickrow",
         "clickrow",
         "False",
         "False"
        ],
        [
         "32",
         "2GAljG6WxV0XU7N88TWhb1",
         "2013-07-08 04:23:08",
         "web player",
         "257591",
         "Paper Doll",
         "John Mayer",
         "Paper Doll",
         "clickrow",
         "unknown",
         "False",
         "False"
        ],
        [
         "33",
         "4gs07VlJST4bdxGbBsXVue",
         "2013-07-08 04:27:39",
         "web player",
         "269661",
         "Heartbreak Warfare",
         "John Mayer",
         "Battle Studies",
         "trackdone",
         "trackdone",
         "False",
         "False"
        ],
        [
         "34",
         "7hR5toSPEgwFZ78jfHdANM",
         "2013-07-08 04:31:53",
         "web player",
         "250368",
         "Half of My Heart",
         "John Mayer",
         "Battle Studies",
         "trackdone",
         "trackdone",
         "False",
         "False"
        ],
        [
         "35",
         "3RgR3cFZ6xh7MlB9DURK6e",
         "2013-07-08 04:35:44",
         "web player",
         "228126",
         "Shadow Days",
         "John Mayer",
         "Born and Raised",
         "trackdone",
         "trackdone",
         "False",
         "False"
        ],
        [
         "36",
         "0CETmgFGt8Ne8vLnaLcduU",
         "2013-07-08 04:39:57",
         "web player",
         "250069",
         "Queen of California",
         "John Mayer",
         "Born and Raised",
         "trackdone",
         "trackdone",
         "False",
         "False"
        ],
        [
         "37",
         "7vFv0yFGMJW3qVXbAd9BK9",
         "2013-07-08 04:44:08",
         "web player",
         "249651",
         "Your Body Is a Wonderland",
         "John Mayer",
         "Room For Squares",
         "trackdone",
         "trackdone",
         "False",
         "False"
        ],
        [
         "38",
         "0EUSbTvyZfo9QOcxunL9Ro",
         "2013-07-08 04:49:59",
         "web player",
         "345625",
         "In Your Atmosphere - Live at the Nokia Theatre, Los Angeles, CA - December 2007",
         "John Mayer",
         "Where the Light Is: John Mayer Live In Los Angeles",
         "trackdone",
         "trackdone",
         "False",
         "False"
        ],
        [
         "39",
         "1aiDlPLPljMFUylWjMZras",
         "2013-07-08 04:50:09",
         "web player",
         "8308",
         "Something Like Olivia",
         "John Mayer",
         "Born and Raised",
         "trackdone",
         "nextbtn",
         "False",
         "False"
        ],
        [
         "40",
         "4LloVtxNZpeh7q7xdi1DQc",
         "2013-07-08 04:50:09",
         "web player",
         "0",
         "Free Fallin' - Live at the Nokia Theatre, Los Angeles, CA - December 2007",
         "John Mayer",
         "Where the Light Is: John Mayer Live In Los Angeles",
         "nextbtn",
         "nextbtn",
         "False",
         "False"
        ],
        [
         "41",
         "0HLWvLKQWpFdPhgk6ym58n",
         "2013-07-08 04:50:13",
         "web player",
         "1375",
         "Who Says",
         "John Mayer",
         "Battle Studies",
         "nextbtn",
         "clickrow",
         "False",
         "False"
        ],
        [
         "42",
         "5pfVOeJXjiW36GgH7WnjlE",
         "2013-07-08 04:51:11",
         "web player",
         "56644",
         "For My Lover",
         "Tracy Chapman",
         "Fast Folk Musical Magazine (Vol. 3, No. 4) Boston One",
         "clickrow",
         "clickrow",
         "False",
         "False"
        ],
        [
         "43",
         "2nMeu6UenVvwUktBCpLMK9",
         "2013-07-08 04:55:09",
         "web player",
         "236042",
         "Young And Beautiful",
         "Lana Del Rey",
         "Young And Beautiful",
         "clickrow",
         "unknown",
         "False",
         "False"
        ],
        [
         "44",
         "2nMeu6UenVvwUktBCpLMK9",
         "2013-07-08 04:59:07",
         "web player",
         "236042",
         "Young And Beautiful",
         "Lana Del Rey",
         "Young And Beautiful",
         "trackdone",
         "trackdone",
         "False",
         "False"
        ],
        [
         "45",
         "2nMeu6UenVvwUktBCpLMK9",
         "2013-07-08 05:02:22",
         "web player",
         "192559",
         "Young And Beautiful",
         "Lana Del Rey",
         "Young And Beautiful",
         "trackdone",
         "clickrow",
         "False",
         "False"
        ],
        [
         "46",
         "6nek1Nin9q48AVZcWs9e9D",
         "2013-07-08 05:02:23",
         "web player",
         "320",
         "Paradise",
         "Coldplay",
         "Mylo Xyloto",
         "clickrow",
         "nextbtn",
         "False",
         "False"
        ],
        [
         "47",
         "4HXOBjwv2RnLpGG4xWOO6N",
         "2013-07-08 05:02:25",
         "web player",
         "0",
         "Princess of China",
         "Coldplay",
         "Mylo Xyloto",
         "nextbtn",
         "nextbtn",
         "False",
         "False"
        ],
        [
         "48",
         "7LVHVU3tWfcxj5aiPFEW4Q",
         "2013-07-08 05:02:27",
         "web player",
         "0",
         "Fix You",
         "Coldplay",
         "X&Y",
         "nextbtn",
         "nextbtn",
         "False",
         "False"
        ],
        [
         "49",
         "3AJwUDP919kvQ9QcozQPxg",
         "2013-07-08 05:02:28",
         "web player",
         "0",
         "Yellow",
         "Coldplay",
         "Parachutes",
         "nextbtn",
         "nextbtn",
         "False",
         "False"
        ]
       ],
       "shape": {
        "columns": 11,
        "rows": 149860
       }
      },
      "text/html": [
       "<div>\n",
       "<style scoped>\n",
       "    .dataframe tbody tr th:only-of-type {\n",
       "        vertical-align: middle;\n",
       "    }\n",
       "\n",
       "    .dataframe tbody tr th {\n",
       "        vertical-align: top;\n",
       "    }\n",
       "\n",
       "    .dataframe thead th {\n",
       "        text-align: right;\n",
       "    }\n",
       "</style>\n",
       "<table border=\"1\" class=\"dataframe\">\n",
       "  <thead>\n",
       "    <tr style=\"text-align: right;\">\n",
       "      <th></th>\n",
       "      <th>spotify_track_uri</th>\n",
       "      <th>ts</th>\n",
       "      <th>platform</th>\n",
       "      <th>ms_played</th>\n",
       "      <th>track_name</th>\n",
       "      <th>artist_name</th>\n",
       "      <th>album_name</th>\n",
       "      <th>reason_start</th>\n",
       "      <th>reason_end</th>\n",
       "      <th>shuffle</th>\n",
       "      <th>skipped</th>\n",
       "    </tr>\n",
       "  </thead>\n",
       "  <tbody>\n",
       "    <tr>\n",
       "      <th>0</th>\n",
       "      <td>2J3n32GeLmMjwuAzyhcSNe</td>\n",
       "      <td>2013-07-08 02:44:34</td>\n",
       "      <td>web player</td>\n",
       "      <td>3185</td>\n",
       "      <td>Say It, Just Say It</td>\n",
       "      <td>The Mowgli's</td>\n",
       "      <td>Waiting For The Dawn</td>\n",
       "      <td>autoplay</td>\n",
       "      <td>clickrow</td>\n",
       "      <td>False</td>\n",
       "      <td>False</td>\n",
       "    </tr>\n",
       "    <tr>\n",
       "      <th>1</th>\n",
       "      <td>1oHxIPqJyvAYHy0PVrDU98</td>\n",
       "      <td>2013-07-08 02:45:37</td>\n",
       "      <td>web player</td>\n",
       "      <td>61865</td>\n",
       "      <td>Drinking from the Bottle (feat. Tinie Tempah)</td>\n",
       "      <td>Calvin Harris</td>\n",
       "      <td>18 Months</td>\n",
       "      <td>clickrow</td>\n",
       "      <td>clickrow</td>\n",
       "      <td>False</td>\n",
       "      <td>False</td>\n",
       "    </tr>\n",
       "    <tr>\n",
       "      <th>2</th>\n",
       "      <td>487OPlneJNni3NWC8SYqhW</td>\n",
       "      <td>2013-07-08 02:50:24</td>\n",
       "      <td>web player</td>\n",
       "      <td>285386</td>\n",
       "      <td>Born To Die</td>\n",
       "      <td>Lana Del Rey</td>\n",
       "      <td>Born To Die - The Paradise Edition</td>\n",
       "      <td>clickrow</td>\n",
       "      <td>unknown</td>\n",
       "      <td>False</td>\n",
       "      <td>False</td>\n",
       "    </tr>\n",
       "    <tr>\n",
       "      <th>3</th>\n",
       "      <td>5IyblF777jLZj1vGHG2UD3</td>\n",
       "      <td>2013-07-08 02:52:40</td>\n",
       "      <td>web player</td>\n",
       "      <td>134022</td>\n",
       "      <td>Off To The Races</td>\n",
       "      <td>Lana Del Rey</td>\n",
       "      <td>Born To Die - The Paradise Edition</td>\n",
       "      <td>trackdone</td>\n",
       "      <td>clickrow</td>\n",
       "      <td>False</td>\n",
       "      <td>False</td>\n",
       "    </tr>\n",
       "    <tr>\n",
       "      <th>4</th>\n",
       "      <td>0GgAAB0ZMllFhbNc3mAodO</td>\n",
       "      <td>2013-07-08 03:17:52</td>\n",
       "      <td>web player</td>\n",
       "      <td>0</td>\n",
       "      <td>Half Mast</td>\n",
       "      <td>Empire Of The Sun</td>\n",
       "      <td>Walking On A Dream</td>\n",
       "      <td>clickrow</td>\n",
       "      <td>nextbtn</td>\n",
       "      <td>False</td>\n",
       "      <td>False</td>\n",
       "    </tr>\n",
       "    <tr>\n",
       "      <th>...</th>\n",
       "      <td>...</td>\n",
       "      <td>...</td>\n",
       "      <td>...</td>\n",
       "      <td>...</td>\n",
       "      <td>...</td>\n",
       "      <td>...</td>\n",
       "      <td>...</td>\n",
       "      <td>...</td>\n",
       "      <td>...</td>\n",
       "      <td>...</td>\n",
       "      <td>...</td>\n",
       "    </tr>\n",
       "    <tr>\n",
       "      <th>149855</th>\n",
       "      <td>4Fz1WWr5o0OrlIcZxcyZtK</td>\n",
       "      <td>2024-12-15 23:06:19</td>\n",
       "      <td>android</td>\n",
       "      <td>1247</td>\n",
       "      <td>On The Way Home</td>\n",
       "      <td>John Mayer</td>\n",
       "      <td>Paradise Valley</td>\n",
       "      <td>fwdbtn</td>\n",
       "      <td>fwdbtn</td>\n",
       "      <td>True</td>\n",
       "      <td>True</td>\n",
       "    </tr>\n",
       "    <tr>\n",
       "      <th>149856</th>\n",
       "      <td>0qHMhBZqYb99yhX9BHcIkV</td>\n",
       "      <td>2024-12-15 23:06:21</td>\n",
       "      <td>android</td>\n",
       "      <td>1515</td>\n",
       "      <td>Magical Mystery Tour - Remastered 2009</td>\n",
       "      <td>The Beatles</td>\n",
       "      <td>Magical Mystery Tour</td>\n",
       "      <td>fwdbtn</td>\n",
       "      <td>fwdbtn</td>\n",
       "      <td>True</td>\n",
       "      <td>True</td>\n",
       "    </tr>\n",
       "    <tr>\n",
       "      <th>149857</th>\n",
       "      <td>0HHdujGjOZChTrl8lJWEIq</td>\n",
       "      <td>2024-12-15 23:06:22</td>\n",
       "      <td>android</td>\n",
       "      <td>1283</td>\n",
       "      <td>Stop This Train - Live at the Nokia Theatre, L...</td>\n",
       "      <td>John Mayer</td>\n",
       "      <td>Where the Light Is: John Mayer Live In Los Ang...</td>\n",
       "      <td>fwdbtn</td>\n",
       "      <td>fwdbtn</td>\n",
       "      <td>True</td>\n",
       "      <td>True</td>\n",
       "    </tr>\n",
       "    <tr>\n",
       "      <th>149858</th>\n",
       "      <td>7peh6LUcdNPcMdrSH4JPsM</td>\n",
       "      <td>2024-12-15 23:06:23</td>\n",
       "      <td>android</td>\n",
       "      <td>1306</td>\n",
       "      <td>I Don't Trust Myself (With Loving You)</td>\n",
       "      <td>John Mayer</td>\n",
       "      <td>Continuum</td>\n",
       "      <td>fwdbtn</td>\n",
       "      <td>fwdbtn</td>\n",
       "      <td>True</td>\n",
       "      <td>True</td>\n",
       "    </tr>\n",
       "    <tr>\n",
       "      <th>149859</th>\n",
       "      <td>6iGU74CwXuT4XVepjc9Emf</td>\n",
       "      <td>2024-12-15 23:06:25</td>\n",
       "      <td>android</td>\n",
       "      <td>1893</td>\n",
       "      <td>God Only Knows - Mono</td>\n",
       "      <td>The Beach Boys</td>\n",
       "      <td>Pet Sounds</td>\n",
       "      <td>fwdbtn</td>\n",
       "      <td>fwdbtn</td>\n",
       "      <td>True</td>\n",
       "      <td>True</td>\n",
       "    </tr>\n",
       "  </tbody>\n",
       "</table>\n",
       "<p>149860 rows × 11 columns</p>\n",
       "</div>"
      ],
      "text/plain": [
       "             spotify_track_uri                   ts    platform  ms_played  \\\n",
       "0       2J3n32GeLmMjwuAzyhcSNe  2013-07-08 02:44:34  web player       3185   \n",
       "1       1oHxIPqJyvAYHy0PVrDU98  2013-07-08 02:45:37  web player      61865   \n",
       "2       487OPlneJNni3NWC8SYqhW  2013-07-08 02:50:24  web player     285386   \n",
       "3       5IyblF777jLZj1vGHG2UD3  2013-07-08 02:52:40  web player     134022   \n",
       "4       0GgAAB0ZMllFhbNc3mAodO  2013-07-08 03:17:52  web player          0   \n",
       "...                        ...                  ...         ...        ...   \n",
       "149855  4Fz1WWr5o0OrlIcZxcyZtK  2024-12-15 23:06:19     android       1247   \n",
       "149856  0qHMhBZqYb99yhX9BHcIkV  2024-12-15 23:06:21     android       1515   \n",
       "149857  0HHdujGjOZChTrl8lJWEIq  2024-12-15 23:06:22     android       1283   \n",
       "149858  7peh6LUcdNPcMdrSH4JPsM  2024-12-15 23:06:23     android       1306   \n",
       "149859  6iGU74CwXuT4XVepjc9Emf  2024-12-15 23:06:25     android       1893   \n",
       "\n",
       "                                               track_name        artist_name  \\\n",
       "0                                     Say It, Just Say It       The Mowgli's   \n",
       "1           Drinking from the Bottle (feat. Tinie Tempah)      Calvin Harris   \n",
       "2                                             Born To Die       Lana Del Rey   \n",
       "3                                        Off To The Races       Lana Del Rey   \n",
       "4                                               Half Mast  Empire Of The Sun   \n",
       "...                                                   ...                ...   \n",
       "149855                                    On The Way Home         John Mayer   \n",
       "149856             Magical Mystery Tour - Remastered 2009        The Beatles   \n",
       "149857  Stop This Train - Live at the Nokia Theatre, L...         John Mayer   \n",
       "149858             I Don't Trust Myself (With Loving You)         John Mayer   \n",
       "149859                              God Only Knows - Mono     The Beach Boys   \n",
       "\n",
       "                                               album_name reason_start  \\\n",
       "0                                    Waiting For The Dawn     autoplay   \n",
       "1                                               18 Months     clickrow   \n",
       "2                      Born To Die - The Paradise Edition     clickrow   \n",
       "3                      Born To Die - The Paradise Edition    trackdone   \n",
       "4                                      Walking On A Dream     clickrow   \n",
       "...                                                   ...          ...   \n",
       "149855                                    Paradise Valley       fwdbtn   \n",
       "149856                               Magical Mystery Tour       fwdbtn   \n",
       "149857  Where the Light Is: John Mayer Live In Los Ang...       fwdbtn   \n",
       "149858                                          Continuum       fwdbtn   \n",
       "149859                                         Pet Sounds       fwdbtn   \n",
       "\n",
       "       reason_end  shuffle  skipped  \n",
       "0        clickrow    False    False  \n",
       "1        clickrow    False    False  \n",
       "2         unknown    False    False  \n",
       "3        clickrow    False    False  \n",
       "4         nextbtn    False    False  \n",
       "...           ...      ...      ...  \n",
       "149855     fwdbtn     True     True  \n",
       "149856     fwdbtn     True     True  \n",
       "149857     fwdbtn     True     True  \n",
       "149858     fwdbtn     True     True  \n",
       "149859     fwdbtn     True     True  \n",
       "\n",
       "[149860 rows x 11 columns]"
      ]
     },
     "execution_count": 55,
     "metadata": {},
     "output_type": "execute_result"
    }
   ],
   "source": [
    "spotify"
   ]
  },
  {
   "cell_type": "code",
   "execution_count": 56,
   "metadata": {},
   "outputs": [
    {
     "data": {
      "application/vnd.microsoft.datawrangler.viewer.v0+json": {
       "columns": [
        {
         "name": "index",
         "rawType": "int64",
         "type": "integer"
        },
        {
         "name": "Field",
         "rawType": "object",
         "type": "string"
        },
        {
         "name": "Description",
         "rawType": "object",
         "type": "string"
        }
       ],
       "ref": "6527644c-57e0-443e-8e7d-4a59a8b41539",
       "rows": [
        [
         "0",
         "spotify_track_uri",
         "Spotify URI that uniquely identifies each track in the form of \"spotify:track:<base-62 string>\""
        ],
        [
         "1",
         "ts",
         "Timestamp indicating when the track stopped playing in UTC (Coordinated Universal Time)"
        ],
        [
         "2",
         "platform",
         "Platform used when streaming the track"
        ],
        [
         "3",
         "ms_played",
         "Number of milliseconds the stream was played"
        ],
        [
         "4",
         "track_name",
         "Name of the track"
        ],
        [
         "5",
         "artist_name",
         "Name of the artist"
        ],
        [
         "6",
         "album_name",
         "Name of the album"
        ],
        [
         "7",
         "reason_start",
         "Why the track started"
        ],
        [
         "8",
         "reason_end",
         "Why the track ended"
        ],
        [
         "9",
         "shuffle",
         "TRUE or FALSE depending on if shuffle mode was used when playing the track"
        ],
        [
         "10",
         "skipped",
         "TRUE of FALSE depending on if the user skipped to the next song"
        ]
       ],
       "shape": {
        "columns": 2,
        "rows": 11
       }
      },
      "text/html": [
       "<div>\n",
       "<style scoped>\n",
       "    .dataframe tbody tr th:only-of-type {\n",
       "        vertical-align: middle;\n",
       "    }\n",
       "\n",
       "    .dataframe tbody tr th {\n",
       "        vertical-align: top;\n",
       "    }\n",
       "\n",
       "    .dataframe thead th {\n",
       "        text-align: right;\n",
       "    }\n",
       "</style>\n",
       "<table border=\"1\" class=\"dataframe\">\n",
       "  <thead>\n",
       "    <tr style=\"text-align: right;\">\n",
       "      <th></th>\n",
       "      <th>Field</th>\n",
       "      <th>Description</th>\n",
       "    </tr>\n",
       "  </thead>\n",
       "  <tbody>\n",
       "    <tr>\n",
       "      <th>0</th>\n",
       "      <td>spotify_track_uri</td>\n",
       "      <td>Spotify URI that uniquely identifies each trac...</td>\n",
       "    </tr>\n",
       "    <tr>\n",
       "      <th>1</th>\n",
       "      <td>ts</td>\n",
       "      <td>Timestamp indicating when the track stopped pl...</td>\n",
       "    </tr>\n",
       "    <tr>\n",
       "      <th>2</th>\n",
       "      <td>platform</td>\n",
       "      <td>Platform used when streaming the track</td>\n",
       "    </tr>\n",
       "    <tr>\n",
       "      <th>3</th>\n",
       "      <td>ms_played</td>\n",
       "      <td>Number of milliseconds the stream was played</td>\n",
       "    </tr>\n",
       "    <tr>\n",
       "      <th>4</th>\n",
       "      <td>track_name</td>\n",
       "      <td>Name of the track</td>\n",
       "    </tr>\n",
       "    <tr>\n",
       "      <th>5</th>\n",
       "      <td>artist_name</td>\n",
       "      <td>Name of the artist</td>\n",
       "    </tr>\n",
       "    <tr>\n",
       "      <th>6</th>\n",
       "      <td>album_name</td>\n",
       "      <td>Name of the album</td>\n",
       "    </tr>\n",
       "    <tr>\n",
       "      <th>7</th>\n",
       "      <td>reason_start</td>\n",
       "      <td>Why the track started</td>\n",
       "    </tr>\n",
       "    <tr>\n",
       "      <th>8</th>\n",
       "      <td>reason_end</td>\n",
       "      <td>Why the track ended</td>\n",
       "    </tr>\n",
       "    <tr>\n",
       "      <th>9</th>\n",
       "      <td>shuffle</td>\n",
       "      <td>TRUE or FALSE depending on if shuffle mode was...</td>\n",
       "    </tr>\n",
       "    <tr>\n",
       "      <th>10</th>\n",
       "      <td>skipped</td>\n",
       "      <td>TRUE of FALSE depending on if the user skipped...</td>\n",
       "    </tr>\n",
       "  </tbody>\n",
       "</table>\n",
       "</div>"
      ],
      "text/plain": [
       "                Field                                        Description\n",
       "0   spotify_track_uri  Spotify URI that uniquely identifies each trac...\n",
       "1                  ts  Timestamp indicating when the track stopped pl...\n",
       "2            platform             Platform used when streaming the track\n",
       "3           ms_played       Number of milliseconds the stream was played\n",
       "4          track_name                                  Name of the track\n",
       "5         artist_name                                 Name of the artist\n",
       "6          album_name                                  Name of the album\n",
       "7        reason_start                              Why the track started\n",
       "8          reason_end                                Why the track ended\n",
       "9             shuffle  TRUE or FALSE depending on if shuffle mode was...\n",
       "10            skipped  TRUE of FALSE depending on if the user skipped..."
      ]
     },
     "execution_count": 56,
     "metadata": {},
     "output_type": "execute_result"
    }
   ],
   "source": [
    "spotify_data"
   ]
  },
  {
   "cell_type": "code",
   "execution_count": 57,
   "metadata": {},
   "outputs": [],
   "source": [
    "spotify['ts'] = pd.to_datetime(spotify['ts'])"
   ]
  },
  {
   "cell_type": "code",
   "execution_count": 58,
   "metadata": {},
   "outputs": [],
   "source": [
    "#covert ms_played to numeric a minutes\n",
    "spotify['ms_played'] = pd.to_numeric(spotify['ms_played'], errors='coerce')\n",
    "spotify['ms_played'] = spotify['ms_played'] / 60000  # Convert milliseconds to minutes"
   ]
  },
  {
   "cell_type": "code",
   "execution_count": 59,
   "metadata": {},
   "outputs": [
    {
     "name": "stdout",
     "output_type": "stream",
     "text": [
      "<class 'pandas.core.frame.DataFrame'>\n",
      "RangeIndex: 149860 entries, 0 to 149859\n",
      "Data columns (total 11 columns):\n",
      " #   Column             Non-Null Count   Dtype         \n",
      "---  ------             --------------   -----         \n",
      " 0   spotify_track_uri  149860 non-null  object        \n",
      " 1   ts                 149860 non-null  datetime64[ns]\n",
      " 2   platform           149860 non-null  object        \n",
      " 3   ms_played          149860 non-null  float64       \n",
      " 4   track_name         149860 non-null  object        \n",
      " 5   artist_name        149860 non-null  object        \n",
      " 6   album_name         149860 non-null  object        \n",
      " 7   reason_start       149717 non-null  object        \n",
      " 8   reason_end         149743 non-null  object        \n",
      " 9   shuffle            149860 non-null  bool          \n",
      " 10  skipped            149860 non-null  bool          \n",
      "dtypes: bool(2), datetime64[ns](1), float64(1), object(7)\n",
      "memory usage: 10.6+ MB\n"
     ]
    }
   ],
   "source": [
    "spotify.info()"
   ]
  },
  {
   "cell_type": "code",
   "execution_count": 60,
   "metadata": {},
   "outputs": [
    {
     "data": {
      "application/vnd.microsoft.datawrangler.viewer.v0+json": {
       "columns": [
        {
         "name": "platform",
         "rawType": "object",
         "type": "string"
        },
        {
         "name": "count",
         "rawType": "int64",
         "type": "integer"
        }
       ],
       "ref": "af945a19-6117-4bbd-ba9b-7117a5c9ff55",
       "rows": [
        [
         "android",
         "139821"
        ],
        [
         "cast to device",
         "3898"
        ],
        [
         "iOS",
         "3049"
        ],
        [
         "windows",
         "1691"
        ],
        [
         "mac",
         "1176"
        ],
        [
         "web player",
         "225"
        ]
       ],
       "shape": {
        "columns": 1,
        "rows": 6
       }
      },
      "text/plain": [
       "platform\n",
       "android           139821\n",
       "cast to device      3898\n",
       "iOS                 3049\n",
       "windows             1691\n",
       "mac                 1176\n",
       "web player           225\n",
       "Name: count, dtype: int64"
      ]
     },
     "execution_count": 60,
     "metadata": {},
     "output_type": "execute_result"
    }
   ],
   "source": [
    "#most platfrom used\n",
    "spotify['platform'].value_counts()"
   ]
  },
  {
   "cell_type": "code",
   "execution_count": 61,
   "metadata": {},
   "outputs": [
    {
     "data": {
      "image/png": "[encoded data removed]",
      "text/plain": [
       "<Figure size 1000x600 with 1 Axes>"
      ]
     },
     "metadata": {},
     "output_type": "display_data"
    }
   ],
   "source": [
    "spotify['platform'].value_counts().plot(kind='bar', title='Most Used Platform', figsize=(10, 6))\n",
    "plt.xlabel('Platform')\n",
    "plt.ylabel('Count')\n",
    "plt.show()"
   ]
  },
  {
   "cell_type": "code",
   "execution_count": 62,
   "metadata": {},
   "outputs": [
    {
     "data": {
      "application/vnd.microsoft.datawrangler.viewer.v0+json": {
       "columns": [
        {
         "name": "artist_name",
         "rawType": "object",
         "type": "string"
        },
        {
         "name": "count",
         "rawType": "int64",
         "type": "integer"
        }
       ],
       "ref": "0ecdce52-97e8-44a5-8894-295fe156124a",
       "rows": [
        [
         "The Beatles",
         "13621"
        ],
        [
         "The Killers",
         "6878"
        ],
        [
         "John Mayer",
         "4855"
        ],
        [
         "Bob Dylan",
         "3814"
        ],
        [
         "Paul McCartney",
         "2697"
        ],
        [
         "Led Zeppelin",
         "2482"
        ],
        [
         "Johnny Cash",
         "2478"
        ],
        [
         "The Rolling Stones",
         "2390"
        ],
        [
         "Radiohead",
         "2305"
        ],
        [
         "The Black Keys",
         "2231"
        ]
       ],
       "shape": {
        "columns": 1,
        "rows": 10
       }
      },
      "text/plain": [
       "artist_name\n",
       "The Beatles           13621\n",
       "The Killers            6878\n",
       "John Mayer             4855\n",
       "Bob Dylan              3814\n",
       "Paul McCartney         2697\n",
       "Led Zeppelin           2482\n",
       "Johnny Cash            2478\n",
       "The Rolling Stones     2390\n",
       "Radiohead              2305\n",
       "The Black Keys         2231\n",
       "Name: count, dtype: int64"
      ]
     },
     "execution_count": 62,
     "metadata": {},
     "output_type": "execute_result"
    }
   ],
   "source": [
    "spotify['artist_name'].value_counts().head(10)"
   ]
  },
  {
   "cell_type": "code",
   "execution_count": 63,
   "metadata": {},
   "outputs": [
    {
     "data": {
      "image/png": "[encoded data removed]",
      "text/plain": [
       "<Figure size 800x800 with 1 Axes>"
      ]
     },
     "metadata": {},
     "output_type": "display_data"
    }
   ],
   "source": [
    "## artist most played for plataform pie chart\n",
    "spotify['artist_name'].value_counts().head(10).plot(kind='pie', title='Top 10 Artists Most Played', autopct='%1.1f%%', figsize=(8, 8))\n",
    "plt.ylabel('')\n",
    "plt.show()"
   ]
  },
  {
   "cell_type": "code",
   "execution_count": 64,
   "metadata": {},
   "outputs": [
    {
     "data": {
      "application/vnd.microsoft.datawrangler.viewer.v0+json": {
       "columns": [
        {
         "name": "artist_name",
         "rawType": "object",
         "type": "string"
        },
        {
         "name": "ms_played",
         "rawType": "float64",
         "type": "float"
        }
       ],
       "ref": "ea5fec38-cdec-43eb-9c04-943435afe4fd",
       "rows": [
        [
         "Cory Weeds",
         "11.02955"
        ],
        [
         "Dan Lacksman",
         "10.751341666666667"
        ],
        [
         "Dave Matthews Band",
         "10.698766666666668"
        ],
        [
         "Mike Oldfield",
         "10.332519444444445"
        ],
        [
         "Brad Mehldau",
         "10.008883333333333"
        ],
        [
         "George Martin",
         "9.49355"
        ],
        [
         "Azymuth",
         "9.469666666666667"
        ],
        [
         "Mudcrutch",
         "9.468216666666667"
        ],
        [
         "Robe",
         "9.1771"
        ],
        [
         "Les Ya Toupas Du Zaire",
         "8.9431"
        ]
       ],
       "shape": {
        "columns": 1,
        "rows": 10
       }
      },
      "text/plain": [
       "artist_name\n",
       "Cory Weeds                11.029550\n",
       "Dan Lacksman              10.751342\n",
       "Dave Matthews Band        10.698767\n",
       "Mike Oldfield             10.332519\n",
       "Brad Mehldau              10.008883\n",
       "George Martin              9.493550\n",
       "Azymuth                    9.469667\n",
       "Mudcrutch                  9.468217\n",
       "Robe                       9.177100\n",
       "Les Ya Toupas Du Zaire     8.943100\n",
       "Name: ms_played, dtype: float64"
      ]
     },
     "execution_count": 64,
     "metadata": {},
     "output_type": "execute_result"
    }
   ],
   "source": [
    "## mean time played by artist\n",
    "mean_played_artist = spotify.groupby('artist_name')['ms_played'].mean().sort_values(ascending=False)\n",
    "mean_played_artist.head(10)"
   ]
  },
  {
   "cell_type": "code",
   "execution_count": 65,
   "metadata": {},
   "outputs": [
    {
     "name": "stdout",
     "output_type": "stream",
     "text": [
      "              precision    recall  f1-score   support\n",
      "\n",
      "           0       0.00      0.00      0.00         1\n",
      "           1       0.50      1.00      0.67         1\n",
      "\n",
      "    accuracy                           0.50         2\n",
      "   macro avg       0.25      0.50      0.33         2\n",
      "weighted avg       0.25      0.50      0.33         2\n",
      "\n"
     ]
    },
    {
     "name": "stderr",
     "output_type": "stream",
     "text": [
      "/Library/Frameworks/Python.framework/Versions/3.12/lib/python3.12/site-packages/sklearn/metrics/_classification.py:1706: UndefinedMetricWarning: Precision is ill-defined and being set to 0.0 in labels with no predicted samples. Use `zero_division` parameter to control this behavior.\n",
      "  _warn_prf(average, modifier, f\"{metric.capitalize()} is\", result.shape[0])\n",
      "/Library/Frameworks/Python.framework/Versions/3.12/lib/python3.12/site-packages/sklearn/metrics/_classification.py:1706: UndefinedMetricWarning: Precision is ill-defined and being set to 0.0 in labels with no predicted samples. Use `zero_division` parameter to control this behavior.\n",
      "  _warn_prf(average, modifier, f\"{metric.capitalize()} is\", result.shape[0])\n",
      "/Library/Frameworks/Python.framework/Versions/3.12/lib/python3.12/site-packages/sklearn/metrics/_classification.py:1706: UndefinedMetricWarning: Precision is ill-defined and being set to 0.0 in labels with no predicted samples. Use `zero_division` parameter to control this behavior.\n",
      "  _warn_prf(average, modifier, f\"{metric.capitalize()} is\", result.shape[0])\n"
     ]
    }
   ],
   "source": [
    "# 2. Convertir variables categóricas a numéricas\n",
    "le_start = LabelEncoder()\n",
    "le_end = LabelEncoder()\n",
    "\n",
    "df['reason_start_encoded'] = le_start.fit_transform(df['reason_start'])\n",
    "df['reason_end_encoded'] = le_end.fit_transform(df['reason_end'])\n",
    "df['shuffle_encoded'] = df['shuffle'].map({'TRUE': 1, 'FALSE': 0})\n",
    "\n",
    "# 3. Variable objetivo\n",
    "df['skipped_encoded'] = df['skipped'].map({'TRUE': 1, 'FALSE': 0})\n",
    "\n",
    "# 4. Seleccionar variables predictoras y objetivo\n",
    "X = df[['reason_start_encoded', 'reason_end_encoded', 'shuffle_encoded']]\n",
    "y = df['skipped_encoded']\n",
    "\n",
    "# 5. Dividir el dataset\n",
    "X_train, X_test, y_train, y_test = train_test_split(X, y, test_size=0.3, random_state=42)\n",
    "\n",
    "# 6. Crear y entrenar modelo\n",
    "modelo = RandomForestClassifier()\n",
    "modelo.fit(X_train, y_train)\n",
    "\n",
    "# 7. Hacer predicciones\n",
    "y_pred = modelo.predict(X_test)\n",
    "\n",
    "# 8. Reporte\n",
    "print(classification_report(y_test, y_pred))"
   ]
  }
 ],
 "metadata": {
  "kernelspec": {
   "display_name": "Python 3",
   "language": "python",
   "name": "python3"
  },
  "language_info": {
   "codemirror_mode": {
    "name": "ipython",
    "version": 3
   },
   "file_extension": ".py",
   "mimetype": "text/x-python",
   "name": "python",
   "nbconvert_exporter": "python",
   "pygments_lexer": "ipython3",
   "version": "3.12.8"
  }
 },
 "nbformat": 4,
 "nbformat_minor": 2
}
